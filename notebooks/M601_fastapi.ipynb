{
 "cells": [
  {
   "cell_type": "code",
   "execution_count": 9,
   "id": "edb574fb",
   "metadata": {},
   "outputs": [
    {
     "name": "stdout",
     "output_type": "stream",
     "text": [
      "{'items': {'0': {'name': 'Hammer', 'price': 9.99, 'count': 9001, 'id': 0, 'category': 'tools'}, '1': {'name': 'Pliers', 'price': 5.99, 'count': 20, 'id': 1, 'category': 'tools'}, '2': {'name': 'Nails', 'price': 1.99, 'count': 100, 'id': 2, 'category': 'consumables'}, '4': {'name': 'Screwdriver', 'price': 3.99, 'count': 10, 'id': 4, 'category': 'tools'}}}\n"
     ]
    }
   ],
   "source": [
    "import requests\n",
    "\n",
    "\n",
    "print(requests.get('http://127.0.0.1:8000').json())"
   ]
  },
  {
   "cell_type": "code",
   "execution_count": 2,
   "id": "b6dc0b11",
   "metadata": {},
   "outputs": [
    {
     "name": "stdout",
     "output_type": "stream",
     "text": [
      "{'name': 'Hammer', 'price': 9.99, 'count': 20, 'id': 0, 'category': 'tools'}\n"
     ]
    }
   ],
   "source": [
    "print(requests.get('http://127.0.0.1:8000/items/0').json())"
   ]
  },
  {
   "cell_type": "code",
   "execution_count": 4,
   "id": "dd24f928",
   "metadata": {},
   "outputs": [
    {
     "name": "stdout",
     "output_type": "stream",
     "text": [
      "{'detail': 'Item with id 56 not found'}\n"
     ]
    }
   ],
   "source": [
    "print(requests.get('http://127.0.0.1:8000/items/56').json())"
   ]
  },
  {
   "cell_type": "code",
   "execution_count": 5,
   "id": "debc6368",
   "metadata": {},
   "outputs": [
    {
     "name": "stdout",
     "output_type": "stream",
     "text": [
      "{'detail': [{'type': 'int_parsing', 'loc': ['path', 'item_id'], 'msg': 'Input should be a valid integer, unable to parse string as an integer', 'input': 'asda'}]}\n"
     ]
    }
   ],
   "source": [
    "print(requests.get('http://127.0.0.1:8000/items/asda').json())"
   ]
  },
  {
   "cell_type": "markdown",
   "id": "3ac45473",
   "metadata": {},
   "source": [
    "Usando query parameters"
   ]
  },
  {
   "cell_type": "code",
   "execution_count": 6,
   "id": "0ac6ecae",
   "metadata": {},
   "outputs": [
    {
     "name": "stdout",
     "output_type": "stream",
     "text": [
      "{'query': {'name': 'Nails'}, 'selection': [{'name': 'Nails', 'price': 1.99, 'count': 100, 'id': 2, 'category': 'consumables'}]}\n"
     ]
    }
   ],
   "source": [
    "print(requests.get('http://127.0.0.1:8000/items/?name=Nails').json())\n"
   ]
  },
  {
   "cell_type": "code",
   "execution_count": 2,
   "id": "3f90b2c6",
   "metadata": {},
   "outputs": [
    {
     "name": "stdout",
     "output_type": "stream",
     "text": [
      "Adding an item:\n",
      "{'added': {'name': 'Screwdriver', 'price': 3.99, 'count': 10, 'id': 4, 'category': 'tools'}}\n",
      "{'items': {'0': {'name': 'Hammer', 'price': 9.99, 'count': 20, 'id': 0, 'category': 'tools'}, '1': {'name': 'Pliers', 'price': 5.99, 'count': 20, 'id': 1, 'category': 'tools'}, '2': {'name': 'Nails', 'price': 1.99, 'count': 100, 'id': 2, 'category': 'consumables'}, '4': {'name': 'Screwdriver', 'price': 3.99, 'count': 10, 'id': 4, 'category': 'tools'}}}\n",
      "\n"
     ]
    }
   ],
   "source": [
    "print(\"Adding an item:\")\n",
    "print(\n",
    "    requests.post(\n",
    "        \"http://127.0.0.1:8000/\",\n",
    "        json={\"name\": \"Screwdriver\", \"price\": 3.99, \"count\": 10, \"id\": 4, \"category\": \"tools\"},\n",
    "    ).json()\n",
    ")\n",
    "print(requests.get(\"http://127.0.0.1:8000/\").json())\n",
    "print()"
   ]
  },
  {
   "cell_type": "code",
   "execution_count": 5,
   "id": "311d0019",
   "metadata": {},
   "outputs": [
    {
     "name": "stdout",
     "output_type": "stream",
     "text": [
      "Updating an item:\n",
      "{'updated': {'name': 'Hammer', 'price': 9.99, 'count': 9001, 'id': 0, 'category': 'tools'}}\n",
      "{'items': {'0': {'name': 'Hammer', 'price': 9.99, 'count': 9001, 'id': 0, 'category': 'tools'}, '1': {'name': 'Pliers', 'price': 5.99, 'count': 20, 'id': 1, 'category': 'tools'}, '2': {'name': 'Nails', 'price': 1.99, 'count': 100, 'id': 2, 'category': 'consumables'}, '4': {'name': 'Screwdriver', 'price': 3.99, 'count': 10, 'id': 4, 'category': 'tools'}}}\n",
      "\n"
     ]
    }
   ],
   "source": [
    "print(\"Updating an item:\")\n",
    "print(requests.put(\"http://127.0.0.1:8000/items/0?count=9001\").json())\n",
    "print(requests.get(\"http://127.0.0.1:8000/\").json())\n",
    "print()\n"
   ]
  },
  {
   "cell_type": "code",
   "execution_count": 11,
   "id": "713e731d",
   "metadata": {},
   "outputs": [
    {
     "name": "stdout",
     "output_type": "stream",
     "text": [
      "Deleting an item:\n",
      "{'deleted': {'name': 'Hammer', 'price': 9.99, 'count': 9001, 'id': 0, 'category': 'tools'}}\n",
      "{'items': {'1': {'name': 'Pliers', 'price': 5.99, 'count': 20, 'id': 1, 'category': 'tools'}, '2': {'name': 'Nails', 'price': 1.99, 'count': 100, 'id': 2, 'category': 'consumables'}, '4': {'name': 'Screwdriver', 'price': 3.99, 'count': 10, 'id': 4, 'category': 'tools'}}}\n"
     ]
    }
   ],
   "source": [
    "\n",
    "\n",
    "\n",
    "print(\"Deleting an item:\")\n",
    "print(requests.delete(\"http://127.0.0.1:8000/items/0\").json())\n",
    "print(requests.get(\"http://127.0.0.1:8000/\").json())"
   ]
  },
  {
   "cell_type": "markdown",
   "id": "6d364bcd",
   "metadata": {},
   "source": []
  },
  {
   "cell_type": "markdown",
   "id": "43b6b30c",
   "metadata": {},
   "source": []
  }
 ],
 "metadata": {
  "kernelspec": {
   "display_name": ".venv",
   "language": "python",
   "name": "python3"
  },
  "language_info": {
   "codemirror_mode": {
    "name": "ipython",
    "version": 3
   },
   "file_extension": ".py",
   "mimetype": "text/x-python",
   "name": "python",
   "nbconvert_exporter": "python",
   "pygments_lexer": "ipython3",
   "version": "3.13.5"
  }
 },
 "nbformat": 4,
 "nbformat_minor": 5
}
