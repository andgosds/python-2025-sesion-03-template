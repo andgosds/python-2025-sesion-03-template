{
 "cells": [
  {
   "cell_type": "code",
   "execution_count": null,
   "id": "1e004a61",
   "metadata": {},
   "outputs": [],
   "source": [
    "import requests, json, pandas as pd\n",
    "\n",
    "# BASE_URL = \"http://localhost:8000\"      # FastAPI\n",
    "# BASE_URL = \"http://localhost:5000\"      # Flask\n",
    "# BASE_URL = \"http://localhost:8001\"    # Django DRF\n"
   ]
  },
  {
   "cell_type": "markdown",
   "id": "fb765ef5",
   "metadata": {},
   "source": [
    "Mostrar la lista de todos los libros"
   ]
  },
  {
   "cell_type": "code",
   "execution_count": 9,
   "id": "ae709232",
   "metadata": {},
   "outputs": [
    {
     "data": {
      "text/html": [
       "<div>\n",
       "<style scoped>\n",
       "    .dataframe tbody tr th:only-of-type {\n",
       "        vertical-align: middle;\n",
       "    }\n",
       "\n",
       "    .dataframe tbody tr th {\n",
       "        vertical-align: top;\n",
       "    }\n",
       "\n",
       "    .dataframe thead th {\n",
       "        text-align: right;\n",
       "    }\n",
       "</style>\n",
       "<table border=\"1\" class=\"dataframe\">\n",
       "  <thead>\n",
       "    <tr style=\"text-align: right;\">\n",
       "      <th></th>\n",
       "      <th>id</th>\n",
       "      <th>title</th>\n",
       "      <th>author</th>\n",
       "      <th>pages</th>\n",
       "    </tr>\n",
       "  </thead>\n",
       "  <tbody>\n",
       "    <tr>\n",
       "      <th>0</th>\n",
       "      <td>16C8B9930998C2990987722C</td>\n",
       "      <td>Effective Python</td>\n",
       "      <td>Brett Slatkin</td>\n",
       "      <td>256</td>\n",
       "    </tr>\n",
       "    <tr>\n",
       "      <th>1</th>\n",
       "      <td>6CE87C8EFFC5AE46808182FE</td>\n",
       "      <td>Clean Code</td>\n",
       "      <td>Robert C. Martin</td>\n",
       "      <td>464</td>\n",
       "    </tr>\n",
       "    <tr>\n",
       "      <th>2</th>\n",
       "      <td>80C442FF671FFFCC3E987836</td>\n",
       "      <td>The Pragmatic Programmer</td>\n",
       "      <td>Andrew Hunt</td>\n",
       "      <td>320</td>\n",
       "    </tr>\n",
       "    <tr>\n",
       "      <th>3</th>\n",
       "      <td>A914B6C43829F70520891370</td>\n",
       "      <td>Fluent Python</td>\n",
       "      <td>Luciano Ramalho</td>\n",
       "      <td>1014</td>\n",
       "    </tr>\n",
       "  </tbody>\n",
       "</table>\n",
       "</div>"
      ],
      "text/plain": [
       "                         id                     title            author  pages\n",
       "0  16C8B9930998C2990987722C          Effective Python     Brett Slatkin    256\n",
       "1  6CE87C8EFFC5AE46808182FE                Clean Code  Robert C. Martin    464\n",
       "2  80C442FF671FFFCC3E987836  The Pragmatic Programmer       Andrew Hunt    320\n",
       "3  A914B6C43829F70520891370             Fluent Python   Luciano Ramalho   1014"
      ]
     },
     "execution_count": 9,
     "metadata": {},
     "output_type": "execute_result"
    }
   ],
   "source": [
    "r = requests.get(f\"{BASE_URL}/books/\")\n",
    "r.raise_for_status()\n",
    "books = r.json()\n",
    "\n",
    "# Mostrarlos con pandas\n",
    "pd.DataFrame(books)\n"
   ]
  },
  {
   "cell_type": "markdown",
   "id": "410e6488",
   "metadata": {},
   "source": [
    "Crear un nuevo libro"
   ]
  },
  {
   "cell_type": "code",
   "execution_count": 3,
   "id": "47820629",
   "metadata": {},
   "outputs": [
    {
     "data": {
      "text/plain": [
       "{'author': 'Eric Evans',\n",
       " 'id': '3f57022be51256d43caed7ef',\n",
       " 'pages': 560,\n",
       " 'title': 'Domain-Driven Design2'}"
      ]
     },
     "execution_count": 3,
     "metadata": {},
     "output_type": "execute_result"
    }
   ],
   "source": [
    "new_book = {\n",
    "    \"title\": \"Domain-Driven Design2\",\n",
    "    \"author\": \"Eric Evans\",\n",
    "    \"pages\": 560\n",
    "}\n",
    "\n",
    "r = requests.post(f\"{BASE_URL}/books/\", json=new_book)\n",
    "r.raise_for_status()    # lanza error si no es 2xx\n",
    "\n",
    "created = r.json()\n",
    "created\n"
   ]
  },
  {
   "cell_type": "markdown",
   "id": "eb7ed809",
   "metadata": {},
   "source": [
    "Volver a mostrar la lista de los librso"
   ]
  },
  {
   "cell_type": "code",
   "execution_count": 10,
   "id": "1f07ad4c",
   "metadata": {},
   "outputs": [
    {
     "data": {
      "text/html": [
       "<div>\n",
       "<style scoped>\n",
       "    .dataframe tbody tr th:only-of-type {\n",
       "        vertical-align: middle;\n",
       "    }\n",
       "\n",
       "    .dataframe tbody tr th {\n",
       "        vertical-align: top;\n",
       "    }\n",
       "\n",
       "    .dataframe thead th {\n",
       "        text-align: right;\n",
       "    }\n",
       "</style>\n",
       "<table border=\"1\" class=\"dataframe\">\n",
       "  <thead>\n",
       "    <tr style=\"text-align: right;\">\n",
       "      <th></th>\n",
       "      <th>id</th>\n",
       "      <th>title</th>\n",
       "      <th>author</th>\n",
       "      <th>pages</th>\n",
       "    </tr>\n",
       "  </thead>\n",
       "  <tbody>\n",
       "    <tr>\n",
       "      <th>0</th>\n",
       "      <td>15730687f6b547102219434d</td>\n",
       "      <td>Domain-Driven Design</td>\n",
       "      <td>Eric Evans</td>\n",
       "      <td>560</td>\n",
       "    </tr>\n",
       "    <tr>\n",
       "      <th>1</th>\n",
       "      <td>27E2B8BA0C8F877D5EE843B4</td>\n",
       "      <td>Effective Python</td>\n",
       "      <td>Brett Slatkin</td>\n",
       "      <td>256</td>\n",
       "    </tr>\n",
       "    <tr>\n",
       "      <th>2</th>\n",
       "      <td>3FFEA37708B49A65032F99CA</td>\n",
       "      <td>Clean Code</td>\n",
       "      <td>Robert C. Martin</td>\n",
       "      <td>464</td>\n",
       "    </tr>\n",
       "    <tr>\n",
       "      <th>3</th>\n",
       "      <td>60BD8E439F3676548CA44D73</td>\n",
       "      <td>The Pragmatic Programmer</td>\n",
       "      <td>Andrew Hunt</td>\n",
       "      <td>320</td>\n",
       "    </tr>\n",
       "    <tr>\n",
       "      <th>4</th>\n",
       "      <td>83F50D5F1CA731A2B98CCF29</td>\n",
       "      <td>Fluent Python</td>\n",
       "      <td>Luciano Ramalho</td>\n",
       "      <td>1014</td>\n",
       "    </tr>\n",
       "  </tbody>\n",
       "</table>\n",
       "</div>"
      ],
      "text/plain": [
       "                         id                     title            author  pages\n",
       "0  15730687f6b547102219434d      Domain-Driven Design        Eric Evans    560\n",
       "1  27E2B8BA0C8F877D5EE843B4          Effective Python     Brett Slatkin    256\n",
       "2  3FFEA37708B49A65032F99CA                Clean Code  Robert C. Martin    464\n",
       "3  60BD8E439F3676548CA44D73  The Pragmatic Programmer       Andrew Hunt    320\n",
       "4  83F50D5F1CA731A2B98CCF29             Fluent Python   Luciano Ramalho   1014"
      ]
     },
     "execution_count": 10,
     "metadata": {},
     "output_type": "execute_result"
    }
   ],
   "source": [
    "r = requests.get(f\"{BASE_URL}/books/\")\n",
    "r.raise_for_status()\n",
    "books = r.json()\n",
    "\n",
    "# Mostrarlos con pandas\n",
    "pd.DataFrame(books)"
   ]
  },
  {
   "cell_type": "markdown",
   "id": "f3700237",
   "metadata": {},
   "source": [
    "Consultar un libro por Id"
   ]
  },
  {
   "cell_type": "code",
   "execution_count": 11,
   "id": "c4b02ffb",
   "metadata": {},
   "outputs": [
    {
     "data": {
      "text/plain": [
       "{'id': '15730687f6b547102219434d',\n",
       " 'title': 'Domain-Driven Design',\n",
       " 'author': 'Eric Evans',\n",
       " 'pages': 560}"
      ]
     },
     "execution_count": 11,
     "metadata": {},
     "output_type": "execute_result"
    }
   ],
   "source": [
    "book_id = created[\"id\"]          # o pega uno existente\n",
    "r = requests.get(f\"{BASE_URL}/books/{book_id}\")\n",
    "r.raise_for_status()\n",
    "r.json()\n"
   ]
  },
  {
   "cell_type": "code",
   "execution_count": null,
   "id": "f4d1d115",
   "metadata": {},
   "outputs": [],
   "source": []
  }
 ],
 "metadata": {
  "kernelspec": {
   "display_name": ".venv",
   "language": "python",
   "name": "python3"
  },
  "language_info": {
   "codemirror_mode": {
    "name": "ipython",
    "version": 3
   },
   "file_extension": ".py",
   "mimetype": "text/x-python",
   "name": "python",
   "nbconvert_exporter": "python",
   "pygments_lexer": "ipython3",
   "version": "3.13.5"
  }
 },
 "nbformat": 4,
 "nbformat_minor": 5
}
